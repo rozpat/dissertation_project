{
  "nbformat": 4,
  "nbformat_minor": 0,
  "metadata": {
    "colab": {
      "provenance": []
    },
    "kernelspec": {
      "name": "python3",
      "display_name": "Python 3"
    },
    "language_info": {
      "name": "python"
    }
  },
  "cells": [
    {
      "cell_type": "code",
      "execution_count": null,
      "metadata": {
        "id": "pkoLKWPIiVgB"
      },
      "outputs": [],
      "source": [
        "from sklearn.model_selection import train_test_split, KFold\n",
        "from sklearn.ensemble import GradientBoostingClassifier\n",
        "import pandas as pd\n",
        "from sklearn.ensemble import RandomForestClassifier\n",
        "from sklearn.metrics import accuracy_score, classification_report\n",
        "from sklearn.model_selection import GridSearchCV\n",
        "from sklearn.metrics import classification_report, confusion_matrix, ConfusionMatrixDisplay\n",
        "import matplotlib.pyplot as plt\n",
        "import numpy as np\n",
        "from sklearn.model_selection import cross_validate\n",
        "from sklearn.model_selection import cross_val_score\n",
        "\n",
        "data = pd.read_csv('cop_training_dataset.csv')\n",
        "\n",
        "# Splitting data into features and target\n",
        "X = data.drop(columns=['subject', 'task', 'window_id','class'])\n",
        "y = data['class']"
      ]
    },
    {
      "cell_type": "markdown",
      "source": [
        "##ALL FEATURES"
      ],
      "metadata": {
        "id": "8uLAcoVazuuM"
      }
    },
    {
      "cell_type": "code",
      "source": [
        "clf = GradientBoostingClassifier(random_state=42)"
      ],
      "metadata": {
        "id": "yiSMHCfiuuM_"
      },
      "execution_count": null,
      "outputs": []
    },
    {
      "cell_type": "code",
      "source": [
        "# Utility function to report best scores\n",
        "def report(results, n_top=3):\n",
        "    for i in range(1, n_top + 1):\n",
        "        candidates = np.flatnonzero(results['rank_test_score'] == i)\n",
        "        for candidate in candidates:\n",
        "            print(\"Model with rank: {0}\".format(i))\n",
        "            print(\"Mean validation score: {0:.3f} (std: {1:.3f})\"\n",
        "                  .format(results['mean_test_score'][candidate],\n",
        "                          results['std_test_score'][candidate]))\n",
        "            print(\"Parameters: {0}\".format(results['params'][candidate]))\n",
        "            print(\"\")\n"
      ],
      "metadata": {
        "id": "sYYnRuIHuwVI"
      },
      "execution_count": null,
      "outputs": []
    },
    {
      "cell_type": "code",
      "source": [
        "n_estimators = [150,200,250]\n",
        "learning_rate = [0.1, 0.01]\n",
        "max_depth = [5,7,10]\n",
        "min_samples_split = [4, 6, 10, 15]"
      ],
      "metadata": {
        "id": "fK7ZGH2ku2R1"
      },
      "execution_count": null,
      "outputs": []
    },
    {
      "cell_type": "code",
      "source": [
        "param_grid = {'n_estimators': n_estimators,\n",
        "               'learning_rate': learning_rate,\n",
        "               'min_samples_split': min_samples_split,\n",
        "               'max_depth': max_depth,\n",
        "             }\n",
        "print(param_grid)"
      ],
      "metadata": {
        "colab": {
          "base_uri": "https://localhost:8080/"
        },
        "id": "pzx-Epc6vGNO",
        "outputId": "97449010-7b3b-4aff-e0bf-f05634fff7e5"
      },
      "execution_count": null,
      "outputs": [
        {
          "output_type": "stream",
          "name": "stdout",
          "text": [
            "{'n_estimators': [150, 200, 250], 'learning_rate': [0.1, 0.01], 'min_samples_split': [4, 6, 10, 15], 'max_depth': [5, 7, 10]}\n"
          ]
        }
      ]
    },
    {
      "cell_type": "code",
      "source": [
        "from sklearn.model_selection import GridSearchCV\n",
        "\n",
        "clf_grid_search = GridSearchCV(clf,\n",
        "                           param_grid=param_grid,\n",
        "                           cv=5,\n",
        "                           verbose=2,\n",
        "                           n_jobs=-1)\n",
        "\n",
        "clf_grid_search.fit(X, y)\n",
        "\n",
        "report(clf_grid_search.cv_results_)"
      ],
      "metadata": {
        "colab": {
          "base_uri": "https://localhost:8080/"
        },
        "id": "_2u1XNqxvNo0",
        "outputId": "f37e44d8-69f2-40af-d551-9aa5bb51a294"
      },
      "execution_count": null,
      "outputs": [
        {
          "output_type": "stream",
          "name": "stdout",
          "text": [
            "Fitting 5 folds for each of 72 candidates, totalling 360 fits\n",
            "Model with rank: 1\n",
            "Mean validation score: 0.660 (std: 0.067)\n",
            "Parameters: {'learning_rate': 0.1, 'max_depth': 7, 'min_samples_split': 15, 'n_estimators': 250}\n",
            "\n",
            "Model with rank: 2\n",
            "Mean validation score: 0.660 (std: 0.071)\n",
            "Parameters: {'learning_rate': 0.1, 'max_depth': 7, 'min_samples_split': 15, 'n_estimators': 200}\n",
            "\n",
            "Model with rank: 3\n",
            "Mean validation score: 0.649 (std: 0.062)\n",
            "Parameters: {'learning_rate': 0.1, 'max_depth': 7, 'min_samples_split': 15, 'n_estimators': 150}\n",
            "\n"
          ]
        }
      ]
    },
    {
      "cell_type": "code",
      "source": [
        "best_params = clf_grid_search.best_params_\n",
        "best_clf = GradientBoostingClassifier(**best_params)\n",
        "scores = cross_validate(best_clf, X, y, cv=5)\n",
        "\n",
        "print(\"Accuracy per fold: \", scores['test_score'])\n",
        "print(\"Average Accuracy: %0.2f\" % (np.mean(scores['test_score'])))\n",
        "print(\"Standard Deviation of Accuracy: +/- %0.2f\" % (np.std(scores['test_score'])))"
      ],
      "metadata": {
        "colab": {
          "base_uri": "https://localhost:8080/"
        },
        "id": "mnWoPJ_9vWKt",
        "outputId": "6acc8b3f-e095-4eb9-ce35-97d10fcd1b33"
      },
      "execution_count": null,
      "outputs": [
        {
          "output_type": "stream",
          "name": "stdout",
          "text": [
            "Accuracy per fold:  [0.75       0.6043956  0.59340659 0.61538462 0.71428571]\n",
            "Average Accuracy: 0.66\n",
            "Standard Deviation of Accuracy: +/- 0.06\n"
          ]
        }
      ]
    },
    {
      "cell_type": "code",
      "source": [
        "from scipy.stats import binomtest\n",
        "\n",
        "n_samples1 = len(data)  # total number of samples\n",
        "successful_pred1 = int(n_samples1 * 0.66)  # total number of successful predictions\n",
        "p_value1 = binomtest(successful_pred1, n_samples1, p=0.5, alternative='greater')\n",
        "p_value1"
      ],
      "metadata": {
        "colab": {
          "base_uri": "https://localhost:8080/"
        },
        "id": "AWrh8vuSzV-J",
        "outputId": "9474b5a1-89da-4700-c9e8-ffd92e7e0477"
      },
      "execution_count": null,
      "outputs": [
        {
          "output_type": "execute_result",
          "data": {
            "text/plain": [
              "BinomTestResult(k=300, n=456, alternative='greater', statistic=0.6578947368421053, pvalue=7.278525757627242e-12)"
            ]
          },
          "metadata": {},
          "execution_count": 42
        }
      ]
    },
    {
      "cell_type": "markdown",
      "source": [
        "##SELECTED FEATURES"
      ],
      "metadata": {
        "id": "XqTpQjdgzxRy"
      }
    },
    {
      "cell_type": "code",
      "source": [
        "X1 = data[['acc_x_dominant_freq', 'gyr_y_dominant_freq',\n",
        "                'gyr_z_dominant_amplitude']]"
      ],
      "metadata": {
        "id": "h_7KshHpzyuN"
      },
      "execution_count": null,
      "outputs": []
    },
    {
      "cell_type": "code",
      "source": [
        "n_estimators1 = [120,150,200]\n",
        "learning_rate1 = [0.1, 0.01]\n",
        "max_depth1 = [5,7,10]\n",
        "min_samples_split1 = [4, 6, 10]"
      ],
      "metadata": {
        "id": "m1YF1Pm70F58"
      },
      "execution_count": null,
      "outputs": []
    },
    {
      "cell_type": "code",
      "source": [
        "param_grid1 = {'n_estimators': n_estimators1,\n",
        "               'learning_rate': learning_rate1,\n",
        "               'min_samples_split': min_samples_split1,\n",
        "               'max_depth': max_depth1,\n",
        "             }\n",
        "print(param_grid1)"
      ],
      "metadata": {
        "colab": {
          "base_uri": "https://localhost:8080/"
        },
        "id": "BoRyNvUo0O84",
        "outputId": "e2ed4cc2-6cde-410f-9048-28d4c9f9944a"
      },
      "execution_count": null,
      "outputs": [
        {
          "output_type": "stream",
          "name": "stdout",
          "text": [
            "{'n_estimators': [120, 150, 200], 'learning_rate': [0.1, 0.01], 'min_samples_split': [4, 6, 10], 'max_depth': [5, 7, 10]}\n"
          ]
        }
      ]
    },
    {
      "cell_type": "code",
      "source": [
        "from sklearn.model_selection import GridSearchCV\n",
        "\n",
        "clf_grid_search1 = GridSearchCV(clf,\n",
        "                           param_grid=param_grid1,\n",
        "                           cv=5,\n",
        "                           verbose=2,\n",
        "                           n_jobs=-1)\n",
        "\n",
        "clf_grid_search1.fit(X1, y)\n",
        "\n",
        "report(clf_grid_search1.cv_results_)"
      ],
      "metadata": {
        "colab": {
          "base_uri": "https://localhost:8080/"
        },
        "id": "dzwy5eUz0WnS",
        "outputId": "8f716f2a-dc25-4e5c-9a89-b6d499e9b68e"
      },
      "execution_count": null,
      "outputs": [
        {
          "output_type": "stream",
          "name": "stdout",
          "text": [
            "Fitting 5 folds for each of 54 candidates, totalling 270 fits\n",
            "Model with rank: 1\n",
            "Mean validation score: 0.590 (std: 0.038)\n",
            "Parameters: {'learning_rate': 0.01, 'max_depth': 5, 'min_samples_split': 4, 'n_estimators': 150}\n",
            "\n",
            "Model with rank: 2\n",
            "Mean validation score: 0.581 (std: 0.027)\n",
            "Parameters: {'learning_rate': 0.01, 'max_depth': 10, 'min_samples_split': 4, 'n_estimators': 150}\n",
            "\n",
            "Model with rank: 3\n",
            "Mean validation score: 0.581 (std: 0.043)\n",
            "Parameters: {'learning_rate': 0.01, 'max_depth': 5, 'min_samples_split': 10, 'n_estimators': 200}\n",
            "\n"
          ]
        }
      ]
    },
    {
      "cell_type": "code",
      "source": [
        "best_params1 = clf_grid_search1.best_params_\n",
        "best_clf1 = GradientBoostingClassifier(**best_params1)\n",
        "scores1 = cross_validate(best_clf1, X1, y, cv=5)\n",
        "\n",
        "print(\"Accuracy per fold: \", scores1['test_score'])\n",
        "print(\"Average Accuracy: %0.2f\" % (np.mean(scores1['test_score'])))\n",
        "print(\"Standard Deviation of Accuracy: +/- %0.2f\" % (np.std(scores1['test_score'])))"
      ],
      "metadata": {
        "colab": {
          "base_uri": "https://localhost:8080/"
        },
        "id": "Wr87pg_h0cIw",
        "outputId": "c4e58e64-9f54-4f8f-a62f-13396c6b773f"
      },
      "execution_count": null,
      "outputs": [
        {
          "output_type": "stream",
          "name": "stdout",
          "text": [
            "Accuracy per fold:  [0.60869565 0.54945055 0.64835165 0.59340659 0.54945055]\n",
            "Average Accuracy: 0.59\n",
            "Standard Deviation of Accuracy: +/- 0.04\n"
          ]
        }
      ]
    },
    {
      "cell_type": "code",
      "source": [
        "from scipy.stats import binomtest\n",
        "\n",
        "n_samples1 = len(data)  # total number of samples\n",
        "successful_pred1 = int(n_samples1 * 0.59)  # total number of successful predictions\n",
        "p_value1 = binomtest(successful_pred1, n_samples1, p=0.5, alternative='greater')\n",
        "p_value1"
      ],
      "metadata": {
        "colab": {
          "base_uri": "https://localhost:8080/"
        },
        "id": "LrNQrTx72DMv",
        "outputId": "45f664da-7f46-4b49-ea5b-b5bd10e71829"
      },
      "execution_count": null,
      "outputs": [
        {
          "output_type": "execute_result",
          "data": {
            "text/plain": [
              "BinomTestResult(k=269, n=456, alternative='greater', statistic=0.5899122807017544, pvalue=7.160417505405845e-05)"
            ]
          },
          "metadata": {},
          "execution_count": 41
        }
      ]
    }
  ]
}