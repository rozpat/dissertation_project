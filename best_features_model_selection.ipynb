{
 "cells": [
  {
   "cell_type": "markdown",
   "id": "547b6483",
   "metadata": {},
   "source": [
    "THIS CODE LOOKS FOR THE RELEVANT FEATURES TO TRAIN THE CLASSIFIER"
   ]
  },
  {
   "cell_type": "code",
   "execution_count": 28,
   "id": "55dc9c9d",
   "metadata": {},
   "outputs": [],
   "source": [
    "from pandas import read_csv\n",
    "from numpy import set_printoptions\n",
    "from sklearn.feature_selection import SelectKBest\n",
    "from sklearn.feature_selection import f_classif\n",
    "import pandas as pd\n",
    "import numpy as np"
   ]
  },
  {
   "cell_type": "code",
   "execution_count": 29,
   "id": "35d423f7",
   "metadata": {},
   "outputs": [],
   "source": [
    "stance_data = pd.read_csv('C:/Users/patrycja.rozmiarek/PycharmProjects/pythonProject/classifier_training_data.csv')"
   ]
  },
  {
   "cell_type": "code",
   "execution_count": 30,
   "id": "afc40645",
   "metadata": {},
   "outputs": [],
   "source": [
    "# X as features and y as target variable\n",
    "X = stance_data.drop(columns=['subject', 'task', 'window_id','class'])\n",
    "y = stance_data['class']"
   ]
  },
  {
   "cell_type": "code",
   "execution_count": 31,
   "id": "452bf819",
   "metadata": {},
   "outputs": [
    {
     "name": "stdout",
     "output_type": "stream",
     "text": [
      "F-statistic scores for each feature:\n",
      "acc_x_dominant_freq: 17.812\n",
      "gyr_z_dominant_amplitude: 13.056\n",
      "gyr_y_dominant_freq: 10.089\n",
      "acc_z_dominant_freq: 9.605\n",
      "gyr_z_std_dev: 9.236\n",
      "gyr_y_kurtosis: 8.123\n",
      "gyr_z_maximum: 7.301\n",
      "gyr_z_minimum: 7.048\n",
      "gyr_y_mean: 6.758\n",
      "acc_y_std_dev: 6.415\n",
      "acc_y_dominant_amplitude: 6.354\n",
      "gyr_z_kurtosis: 6.030\n",
      "gyr_y_maximum: 5.096\n",
      "gyr_x_kurtosis: 5.024\n",
      "acc_x_dominant_amplitude: 4.958\n",
      "gyr_x_maximum: 4.797\n",
      "acc_z_std_dev: 4.713\n",
      "acc_z_dominant_amplitude: 4.481\n",
      "gyr_y_std_dev: 4.441\n",
      "gyr_y_minimum: 4.175\n",
      "gyr_x_std_dev: 3.707\n",
      "gyr_x_dominant_amplitude: 3.608\n",
      "acc_x_std_dev: 3.595\n",
      "gyr_x_minimum: 3.473\n",
      "acc_x_skewness: 3.378\n",
      "acc_z_kurtosis: 3.239\n",
      "acc_z_skewness: 3.202\n",
      "acc_y_minimum: 3.201\n",
      "gyr_x_skewness: 2.677\n",
      "gyr_y_dominant_amplitude: 2.623\n",
      "gyr_x_mean: 2.191\n",
      "acc_y_skewness: 1.686\n",
      "acc_x_kurtosis: 1.630\n",
      "acc_y_kurtosis: 1.605\n",
      "acc_x_minimum: 1.553\n",
      "acc_y_maximum: 1.241\n",
      "gyr_z_dominant_freq: 1.069\n",
      "acc_x_maximum: 1.016\n",
      "acc_y_dominant_freq: 0.804\n",
      "gyr_z_mean: 0.628\n",
      "acc_z_minimum: 0.567\n",
      "gyr_y_skewness: 0.565\n",
      "acc_z_maximum: 0.221\n",
      "gyr_z_skewness: 0.073\n",
      "acc_x_mean: 0.003\n",
      "gyr_x_dominant_freq: 0.001\n",
      "acc_y_mean: 0.001\n",
      "acc_z_mean: 0.000\n",
      "Selected features (first 5 rows):\n",
      "[[2.900e+01 5.000e-01 2.900e+01 6.023e-03 1.482e+00]\n",
      " [2.950e+01 5.000e-01 2.500e+00 6.255e-03 1.328e+00]\n",
      " [2.900e+01 5.000e-01 1.100e+01 7.582e-03 1.561e+00]\n",
      " [2.900e+01 1.500e+00 3.600e+01 7.557e-03 1.473e+00]\n",
      " [2.850e+01 5.000e-01 2.850e+01 6.251e-03 1.599e+00]]\n"
     ]
    }
   ],
   "source": [
    "# My code for feature selection\n",
    "test = SelectKBest(score_func=f_classif, k=5)\n",
    "fit = test.fit(X, y)\n",
    "\n",
    "# Set the precision for printing scores\n",
    "np.set_printoptions(precision=3)\n",
    "\n",
    "# Print the F-statistic scores with the feature names (column names)\n",
    "score_names = list(X.columns)\n",
    "scores = fit.scores_\n",
    "score_map = dict(zip(score_names, scores))\n",
    "sorted_scores = sorted(score_map.items(), key=lambda x: x[1], reverse=True)\n",
    "\n",
    "print(\"F-statistic scores for each feature:\")\n",
    "for feature, score in sorted_scores:\n",
    "    print(f\"{feature}: {score:.3f}\")\n",
    "\n",
    "# Print the selected features\n",
    "selected_features = fit.transform(X)\n",
    "\n",
    "print(\"Selected features (first 5 rows):\")\n",
    "print(selected_features[0:5, :])"
   ]
  },
  {
   "cell_type": "code",
   "execution_count": 32,
   "id": "68897276",
   "metadata": {},
   "outputs": [
    {
     "name": "stdout",
     "output_type": "stream",
     "text": [
      "Selected column names:\n",
      "Index(['acc_x_dominant_freq', 'acc_z_dominant_freq', 'gyr_y_dominant_freq',\n",
      "       'gyr_z_std_dev', 'gyr_z_dominant_amplitude'],\n",
      "      dtype='object')\n"
     ]
    }
   ],
   "source": [
    "# Get the mask of selected features\n",
    "selected_mask = fit.get_support()\n",
    "\n",
    "# Get the column names of the selected features\n",
    "selected_feature_names = X.columns[selected_mask]\n",
    "\n",
    "# Print the names of the selected columns\n",
    "print(\"Selected column names:\")\n",
    "print(selected_feature_names)"
   ]
  },
  {
   "cell_type": "markdown",
   "id": "b9951acb",
   "metadata": {},
   "source": [
    "HERE WE LOOK FOR THE BEST CLASSIFIERS BEFORE AND AFTER FEATURE SELECTION "
   ]
  },
  {
   "cell_type": "markdown",
   "id": "98c57600",
   "metadata": {},
   "source": [
    "BEFORE FEATURE SELECTION"
   ]
  },
  {
   "cell_type": "code",
   "execution_count": 33,
   "id": "bb8c65c3",
   "metadata": {},
   "outputs": [],
   "source": [
    "import numpy as np\n",
    "import pandas as pd\n",
    "from sklearn.model_selection import cross_val_score\n",
    "from sklearn.model_selection import GridSearchCV\n",
    "from sklearn.model_selection import cross_validate"
   ]
  },
  {
   "cell_type": "code",
   "execution_count": 34,
   "id": "d5f9b479",
   "metadata": {},
   "outputs": [],
   "source": [
    "# importing the models\n",
    "from sklearn.neighbors import KNeighborsClassifier\n",
    "from sklearn.ensemble import RandomForestClassifier\n",
    "from sklearn.ensemble import GradientBoostingClassifier\n",
    "from sklearn.neural_network import MLPClassifier\n",
    "from sklearn.naive_bayes import GaussianNB"
   ]
  },
  {
   "cell_type": "code",
   "execution_count": 35,
   "id": "4d0a2534",
   "metadata": {},
   "outputs": [],
   "source": [
    "rfc = RandomForestClassifier(random_state=0)\n",
    "gbc = GradientBoostingClassifier()\n",
    "knc = KNeighborsClassifier()\n",
    "mlpc = MLPClassifier(max_iter=3000)\n",
    "gnb = GaussianNB()"
   ]
  },
  {
   "cell_type": "code",
   "execution_count": 36,
   "id": "6c32bfbc",
   "metadata": {},
   "outputs": [],
   "source": [
    "# list of models\n",
    "models = [knc, rfc, gbc, mlpc, gnb]"
   ]
  },
  {
   "cell_type": "code",
   "execution_count": 37,
   "id": "1bbda35f",
   "metadata": {},
   "outputs": [],
   "source": [
    "def compare_models_cross_validation():\n",
    "\n",
    "  for model in models:\n",
    "\n",
    "    cv_score = cross_val_score(model, X, y, cv=5)\n",
    "    mean_accuracy = sum(cv_score)/len(cv_score)\n",
    "    mean_accuracy = mean_accuracy*100\n",
    "    mean_accuracy = round(mean_accuracy, 2)\n",
    "\n",
    "    print('Cross Validation accuracies for the',model,'=', cv_score)\n",
    "    print('Acccuracy score of the ',model,'=',mean_accuracy,'%')\n",
    "    print('---------------------------------------------------------------')"
   ]
  },
  {
   "cell_type": "code",
   "execution_count": null,
   "id": "2f2b0ee2",
   "metadata": {
    "scrolled": true
   },
   "outputs": [
    {
     "name": "stdout",
     "output_type": "stream",
     "text": [
      "Cross Validation accuracies for the KNeighborsClassifier() = [0.587 0.648 0.505 0.516 0.549]\n",
      "Acccuracy score of the  KNeighborsClassifier() = 56.13 %\n",
      "---------------------------------------------------------------\n",
      "Cross Validation accuracies for the RandomForestClassifier(random_state=0) = [0.696 0.582 0.604 0.615 0.582]\n",
      "Acccuracy score of the  RandomForestClassifier(random_state=0) = 61.61 %\n",
      "---------------------------------------------------------------\n",
      "Cross Validation accuracies for the GradientBoostingClassifier() = [0.717 0.593 0.538 0.604 0.681]\n",
      "Acccuracy score of the  GradientBoostingClassifier() = 62.7 %\n",
      "---------------------------------------------------------------\n"
     ]
    }
   ],
   "source": [
    "compare_models_cross_validation()"
   ]
  },
  {
   "cell_type": "markdown",
   "id": "ba1ae7eb",
   "metadata": {},
   "source": [
    "AFTER FEATURE SELECTION"
   ]
  },
  {
   "cell_type": "code",
   "execution_count": 26,
   "id": "5df5c788",
   "metadata": {},
   "outputs": [],
   "source": [
    "# X as features and y as target variable\n",
    "X1 = stance_data[['acc_x_dominant_freq', 'gyr_y_dominant_freq', 'gyr_z_dominant_amplitude']]\n",
    "y1 = stance_data['class']"
   ]
  },
  {
   "cell_type": "code",
   "execution_count": 14,
   "id": "210452a3",
   "metadata": {},
   "outputs": [],
   "source": [
    "def compare_models_cross_validation():\n",
    "\n",
    "  for model in models:\n",
    "\n",
    "    cv_score = cross_val_score(model, X1, y, cv=5)\n",
    "    mean_accuracy = sum(cv_score)/len(cv_score)\n",
    "    mean_accuracy = mean_accuracy*100\n",
    "    mean_accuracy = round(mean_accuracy, 2)\n",
    "\n",
    "    print('Cross Validation accuracies for the',model,'=', cv_score)\n",
    "    print('Acccuracy score of the ',model,'=',mean_accuracy,'%')\n",
    "    print('---------------------------------------------------------------')"
   ]
  },
  {
   "cell_type": "code",
   "execution_count": 15,
   "id": "e536c10f",
   "metadata": {},
   "outputs": [],
   "source": [
    "rfc = RandomForestClassifier(random_state=0)\n",
    "gbc = GradientBoostingClassifier()\n",
    "knc = KNeighborsClassifier()\n",
    "mlpc = MLPClassifier(max_iter=3000)\n",
    "gnb = GaussianNB()"
   ]
  },
  {
   "cell_type": "code",
   "execution_count": 16,
   "id": "ac384bb1",
   "metadata": {},
   "outputs": [],
   "source": [
    "# list of models\n",
    "models = [knc, rfc, gbc, mlpc, gnb]"
   ]
  },
  {
   "cell_type": "code",
   "execution_count": 27,
   "id": "8f2d58e7",
   "metadata": {},
   "outputs": [
    {
     "name": "stdout",
     "output_type": "stream",
     "text": [
      "Cross Validation accuracies for the LogisticRegression(max_iter=3000) = [0.63  0.604 0.692 0.582 0.604]\n",
      "Acccuracy score of the  LogisticRegression(max_iter=3000) = 62.28 %\n",
      "---------------------------------------------------------------\n",
      "Cross Validation accuracies for the KNeighborsClassifier() = [0.641 0.571 0.615 0.604 0.56 ]\n",
      "Acccuracy score of the  KNeighborsClassifier() = 59.86 %\n",
      "---------------------------------------------------------------\n",
      "Cross Validation accuracies for the RandomForestClassifier(random_state=0) = [0.576 0.538 0.593 0.626 0.593]\n",
      "Acccuracy score of the  RandomForestClassifier(random_state=0) = 58.55 %\n",
      "---------------------------------------------------------------\n",
      "Cross Validation accuracies for the GradientBoostingClassifier() = [0.565 0.538 0.593 0.527 0.473]\n",
      "Acccuracy score of the  GradientBoostingClassifier() = 53.94 %\n",
      "---------------------------------------------------------------\n",
      "Cross Validation accuracies for the MLPClassifier(max_iter=3000) = [0.609 0.604 0.692 0.593 0.56 ]\n",
      "Acccuracy score of the  MLPClassifier(max_iter=3000) = 61.18 %\n",
      "---------------------------------------------------------------\n",
      "Cross Validation accuracies for the GaussianNB() = [0.62  0.549 0.56  0.615 0.527]\n",
      "Acccuracy score of the  GaussianNB() = 57.45 %\n",
      "---------------------------------------------------------------\n"
     ]
    }
   ],
   "source": [
    "compare_models_cross_validation()"
   ]
  }
 ],
 "metadata": {
  "kernelspec": {
   "display_name": "Python 3 (ipykernel)",
   "language": "python",
   "name": "python3"
  },
  "language_info": {
   "codemirror_mode": {
    "name": "ipython",
    "version": 3
   },
   "file_extension": ".py",
   "mimetype": "text/x-python",
   "name": "python",
   "nbconvert_exporter": "python",
   "pygments_lexer": "ipython3",
   "version": "3.11.4"
  }
 },
 "nbformat": 4,
 "nbformat_minor": 5
}
