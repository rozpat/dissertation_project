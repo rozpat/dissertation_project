{
  "cells": [
    {
      "cell_type": "code",
      "execution_count": null,
      "metadata": {
        "id": "XSBFdcNFAIRC"
      },
      "outputs": [],
      "source": [
        "import pandas as pd\n",
        "from sklearn.model_selection import train_test_split\n",
        "from sklearn.ensemble import RandomForestClassifier\n",
        "from sklearn.metrics import accuracy_score, classification_report\n",
        "from sklearn.model_selection import GridSearchCV\n",
        "from sklearn.metrics import classification_report, confusion_matrix, ConfusionMatrixDisplay\n",
        "import matplotlib.pyplot as plt\n",
        "import numpy as np\n",
        "from sklearn.model_selection import cross_validate\n",
        "from sklearn.model_selection import cross_val_score"
      ]
    },
    {
      "cell_type": "code",
      "execution_count": null,
      "metadata": {
        "id": "OD4BDPSJD5ap"
      },
      "outputs": [],
      "source": [
        "# importing the model\n",
        "from sklearn.ensemble import RandomForestClassifier"
      ]
    },
    {
      "cell_type": "code",
      "execution_count": null,
      "metadata": {
        "id": "lIQHOtudDLyq"
      },
      "outputs": [],
      "source": [
        "subjects_df = pd.read_csv('cop_training_dataset.csv')"
      ]
    },
    {
      "cell_type": "markdown",
      "source": [
        "##FEATURE SELECTION"
      ],
      "metadata": {
        "id": "Zuhsej_XptFN"
      }
    },
    {
      "cell_type": "code",
      "execution_count": null,
      "metadata": {
        "id": "B_KE4a7nDLtn"
      },
      "outputs": [],
      "source": [
        "# X as features and y as target variable\n",
        "X = subjects_df[['acc_x_dominant_freq', 'gyr_y_dominant_freq',\n",
        "                'gyr_z_dominant_amplitude']]\n",
        "y = subjects_df['class']\n"
      ]
    },
    {
      "cell_type": "code",
      "execution_count": null,
      "metadata": {
        "id": "V4GLxtFcj2sE"
      },
      "outputs": [],
      "source": [
        "rfc = RandomForestClassifier(random_state=42)"
      ]
    },
    {
      "cell_type": "code",
      "execution_count": null,
      "metadata": {
        "id": "WHNGspD8SkZx"
      },
      "outputs": [],
      "source": [
        "# Utility function to report best scores\n",
        "def report(results, n_top=3):\n",
        "    for i in range(1, n_top + 1):\n",
        "        candidates = np.flatnonzero(results['rank_test_score'] == i)\n",
        "        for candidate in candidates:\n",
        "            print(\"Model with rank: {0}\".format(i))\n",
        "            print(\"Mean validation score: {0:.3f} (std: {1:.3f})\"\n",
        "                  .format(results['mean_test_score'][candidate],\n",
        "                          results['std_test_score'][candidate]))\n",
        "            print(\"Parameters: {0}\".format(results['params'][candidate]))\n",
        "            print(\"\")\n"
      ]
    },
    {
      "cell_type": "code",
      "execution_count": null,
      "metadata": {
        "id": "LM2H3ISPSlXX"
      },
      "outputs": [],
      "source": [
        "# Number of trees in random forest\n",
        "n_estimators = [100,150]\n",
        "\n",
        "# Criterion\n",
        "criterion = ['gini', 'entropy', 'log_loss']\n",
        "\n",
        "# Number of features to consider at every split\n",
        "max_features = [None, 'sqrt', 'log2']\n",
        "\n",
        "# Maximum number of levels in tree\n",
        "max_depth = [10,15,20,None]\n",
        "\n",
        "# Minimum samples split\n",
        "min_samples_split = [5, 7, 10, 20, 40, None]\n"
      ]
    },
    {
      "cell_type": "code",
      "execution_count": null,
      "metadata": {
        "colab": {
          "base_uri": "https://localhost:8080/"
        },
        "id": "eowNDExtSr8S",
        "outputId": "ca113652-f555-4f0f-d501-eba56aa38457"
      },
      "outputs": [
        {
          "output_type": "stream",
          "name": "stdout",
          "text": [
            "{'n_estimators': [100, 150], 'max_features': [None, 'sqrt', 'log2'], 'criterion': ['gini', 'entropy', 'log_loss'], 'max_depth': [10, 15, 20, None]}\n"
          ]
        }
      ],
      "source": [
        "param_grid = {'n_estimators': n_estimators,\n",
        "               'max_features': max_features,\n",
        "               'criterion': criterion,\n",
        "               'max_depth': max_depth,\n",
        "             }\n",
        "print(param_grid)"
      ]
    },
    {
      "cell_type": "code",
      "execution_count": null,
      "metadata": {
        "colab": {
          "base_uri": "https://localhost:8080/"
        },
        "id": "uHAjOuXoSt_q",
        "outputId": "4290b331-63bd-46b7-a1fe-fef3224c42dc"
      },
      "outputs": [
        {
          "output_type": "stream",
          "name": "stdout",
          "text": [
            "Fitting 5 folds for each of 72 candidates, totalling 360 fits\n",
            "Model with rank: 1\n",
            "Mean validation score: 0.605 (std: 0.034)\n",
            "Parameters: {'criterion': 'gini', 'max_depth': 10, 'max_features': 'sqrt', 'n_estimators': 150}\n",
            "\n",
            "Model with rank: 1\n",
            "Mean validation score: 0.605 (std: 0.034)\n",
            "Parameters: {'criterion': 'gini', 'max_depth': 10, 'max_features': 'log2', 'n_estimators': 150}\n",
            "\n",
            "Model with rank: 3\n",
            "Mean validation score: 0.603 (std: 0.035)\n",
            "Parameters: {'criterion': 'gini', 'max_depth': 15, 'max_features': 'sqrt', 'n_estimators': 150}\n",
            "\n",
            "Model with rank: 3\n",
            "Mean validation score: 0.603 (std: 0.035)\n",
            "Parameters: {'criterion': 'gini', 'max_depth': 15, 'max_features': 'log2', 'n_estimators': 150}\n",
            "\n"
          ]
        }
      ],
      "source": [
        "from sklearn.model_selection import GridSearchCV\n",
        "\n",
        "rfc_grid_search = GridSearchCV(rfc,\n",
        "                           param_grid=param_grid,\n",
        "                           cv=5,\n",
        "                           verbose=2,\n",
        "                           n_jobs=-1)\n",
        "\n",
        "rfc_grid_search.fit(X, y)\n",
        "\n",
        "report(rfc_grid_search.cv_results_)"
      ]
    },
    {
      "cell_type": "code",
      "execution_count": null,
      "metadata": {
        "colab": {
          "base_uri": "https://localhost:8080/"
        },
        "id": "y5AyszzySvtc",
        "outputId": "5acb1cd6-d874-4b10-f25d-11b93e80a9f0"
      },
      "outputs": [
        {
          "output_type": "stream",
          "name": "stdout",
          "text": [
            "Accuracy per fold:  [0.57608696 0.56043956 0.6043956  0.63736264 0.64835165]\n",
            "Average Accuracy: 0.61\n",
            "Standard Deviation of Accuracy: +/- 0.03\n"
          ]
        }
      ],
      "source": [
        "best_params = rfc_grid_search.best_params_\n",
        "best_rfc = RandomForestClassifier(**best_params, random_state=42)\n",
        "scores = cross_validate(best_rfc, X, y, cv=5)\n",
        "\n",
        "print(\"Accuracy per fold: \", scores['test_score'])\n",
        "print(\"Average Accuracy: %0.2f\" % (np.mean(scores['test_score'])))\n",
        "print(\"Standard Deviation of Accuracy: +/- %0.2f\" % (np.std(scores['test_score'])))"
      ]
    },
    {
      "cell_type": "markdown",
      "source": [
        "P-VALUE"
      ],
      "metadata": {
        "id": "vWixecOCo4T1"
      }
    },
    {
      "cell_type": "code",
      "source": [
        "from scipy.stats import binomtest\n",
        "\n",
        "n_samples = len(subjects_df)  # total number of samples\n",
        "successful_pred = int(n_samples * 0.61)  # total number of successful predictions\n",
        "p_value = binomtest(successful_pred, n_samples, p=0.5, alternative='greater')\n",
        "p_value"
      ],
      "metadata": {
        "colab": {
          "base_uri": "https://localhost:8080/"
        },
        "id": "h4wIJwcco2qu",
        "outputId": "c634cd8b-6d1c-4c8d-9664-3c28b51e54cc"
      },
      "execution_count": null,
      "outputs": [
        {
          "output_type": "execute_result",
          "data": {
            "text/plain": [
              "BinomTestResult(k=278, n=456, alternative='greater', statistic=0.6096491228070176, pvalue=1.6296368715170686e-06)"
            ]
          },
          "metadata": {},
          "execution_count": 52
        }
      ]
    },
    {
      "cell_type": "markdown",
      "metadata": {
        "id": "VER4NJ_OnglX"
      },
      "source": [
        "BEFORE FEATURE SELECTION\n"
      ]
    },
    {
      "cell_type": "code",
      "execution_count": null,
      "metadata": {
        "id": "mAZqq-_3niPq"
      },
      "outputs": [],
      "source": [
        "# X as features and y as target variable\n",
        "X1 = subjects_df.drop(columns=['subject', 'task', 'window_id','class'])"
      ]
    },
    {
      "cell_type": "code",
      "execution_count": null,
      "metadata": {
        "id": "52PyA7AhnsL-"
      },
      "outputs": [],
      "source": [
        "# Number of trees in random forest\n",
        "n_estimators1 = [30,50,60,70]\n",
        "\n",
        "# Criterion\n",
        "criterion1 = ['entropy', 'log_loss']\n",
        "\n",
        "# Number of features to consider at every split\n",
        "max_features1 = [None, 'sqrt', 'log2']\n",
        "\n",
        "# Maximum number of levels in tree\n",
        "max_depth1 = [15,20,None]\n",
        "\n",
        "# Minimum samples split\n",
        "min_samples_split1 = [40, 50, None]"
      ]
    },
    {
      "cell_type": "code",
      "execution_count": null,
      "metadata": {
        "colab": {
          "base_uri": "https://localhost:8080/"
        },
        "id": "fO_9gMuznt6l",
        "outputId": "b0b4f1fa-2493-4bbb-f2ba-56210a8e1d80"
      },
      "outputs": [
        {
          "output_type": "stream",
          "name": "stdout",
          "text": [
            "{'n_estimators': [30, 50, 60, 70], 'max_features': [None, 'sqrt', 'log2'], 'criterion': ['entropy', 'log_loss'], 'max_depth': [15, 20, None], 'min_samples_split': [40, 50, None]}\n"
          ]
        }
      ],
      "source": [
        "param_grid1 = {'n_estimators': n_estimators1,\n",
        "               'max_features': max_features1,\n",
        "               'criterion': criterion1,\n",
        "               'max_depth': max_depth1,\n",
        "              'min_samples_split' : min_samples_split1\n",
        "             }\n",
        "print(param_grid1)"
      ]
    },
    {
      "cell_type": "code",
      "execution_count": null,
      "metadata": {
        "colab": {
          "base_uri": "https://localhost:8080/"
        },
        "id": "Vg809FCTnug4",
        "outputId": "77eadd0d-a079-4a58-9975-0306ec79945a"
      },
      "outputs": [
        {
          "output_type": "stream",
          "name": "stdout",
          "text": [
            "Fitting 5 folds for each of 216 candidates, totalling 1080 fits\n",
            "Model with rank: 1\n",
            "Mean validation score: 0.682 (std: 0.071)\n",
            "Parameters: {'criterion': 'entropy', 'max_depth': 15, 'max_features': 'sqrt', 'min_samples_split': 50, 'n_estimators': 60}\n",
            "\n",
            "Model with rank: 1\n",
            "Mean validation score: 0.682 (std: 0.071)\n",
            "Parameters: {'criterion': 'entropy', 'max_depth': 20, 'max_features': 'sqrt', 'min_samples_split': 50, 'n_estimators': 60}\n",
            "\n",
            "Model with rank: 1\n",
            "Mean validation score: 0.682 (std: 0.071)\n",
            "Parameters: {'criterion': 'entropy', 'max_depth': None, 'max_features': 'sqrt', 'min_samples_split': 50, 'n_estimators': 60}\n",
            "\n",
            "Model with rank: 1\n",
            "Mean validation score: 0.682 (std: 0.071)\n",
            "Parameters: {'criterion': 'log_loss', 'max_depth': 15, 'max_features': 'sqrt', 'min_samples_split': 50, 'n_estimators': 60}\n",
            "\n",
            "Model with rank: 1\n",
            "Mean validation score: 0.682 (std: 0.071)\n",
            "Parameters: {'criterion': 'log_loss', 'max_depth': 20, 'max_features': 'sqrt', 'min_samples_split': 50, 'n_estimators': 60}\n",
            "\n",
            "Model with rank: 1\n",
            "Mean validation score: 0.682 (std: 0.071)\n",
            "Parameters: {'criterion': 'log_loss', 'max_depth': None, 'max_features': 'sqrt', 'min_samples_split': 50, 'n_estimators': 60}\n",
            "\n"
          ]
        },
        {
          "output_type": "stream",
          "name": "stderr",
          "text": [
            "/usr/local/lib/python3.10/dist-packages/sklearn/model_selection/_validation.py:378: FitFailedWarning: \n",
            "360 fits failed out of a total of 1080.\n",
            "The score on these train-test partitions for these parameters will be set to nan.\n",
            "If these failures are not expected, you can try to debug them by setting error_score='raise'.\n",
            "\n",
            "Below are more details about the failures:\n",
            "--------------------------------------------------------------------------------\n",
            "360 fits failed with the following error:\n",
            "Traceback (most recent call last):\n",
            "  File \"/usr/local/lib/python3.10/dist-packages/sklearn/model_selection/_validation.py\", line 686, in _fit_and_score\n",
            "    estimator.fit(X_train, y_train, **fit_params)\n",
            "  File \"/usr/local/lib/python3.10/dist-packages/sklearn/ensemble/_forest.py\", line 340, in fit\n",
            "    self._validate_params()\n",
            "  File \"/usr/local/lib/python3.10/dist-packages/sklearn/base.py\", line 600, in _validate_params\n",
            "    validate_parameter_constraints(\n",
            "  File \"/usr/local/lib/python3.10/dist-packages/sklearn/utils/_param_validation.py\", line 97, in validate_parameter_constraints\n",
            "    raise InvalidParameterError(\n",
            "sklearn.utils._param_validation.InvalidParameterError: The 'min_samples_split' parameter of RandomForestClassifier must be an int in the range [2, inf) or a float in the range (0.0, 1.0]. Got None instead.\n",
            "\n",
            "  warnings.warn(some_fits_failed_message, FitFailedWarning)\n",
            "/usr/local/lib/python3.10/dist-packages/sklearn/model_selection/_search.py:952: UserWarning: One or more of the test scores are non-finite: [0.640301   0.62274247 0.62496417 0.62496417 0.64684663 0.62496417\n",
            " 0.62274247 0.62281414        nan        nan        nan        nan\n",
            " 0.64882943 0.67083134 0.66421405 0.66196847 0.65981844 0.67962255\n",
            " 0.68179646 0.67300526        nan        nan        nan        nan\n",
            " 0.64242714 0.65551839 0.65114668 0.65993789 0.63356426 0.64237936\n",
            " 0.65112279 0.65112279        nan        nan        nan        nan\n",
            " 0.640301   0.62274247 0.62496417 0.62496417 0.64684663 0.62496417\n",
            " 0.62274247 0.62281414        nan        nan        nan        nan\n",
            " 0.64882943 0.67083134 0.66421405 0.66196847 0.65981844 0.67962255\n",
            " 0.68179646 0.67300526        nan        nan        nan        nan\n",
            " 0.64242714 0.65551839 0.65114668 0.65993789 0.63356426 0.64237936\n",
            " 0.65112279 0.65112279        nan        nan        nan        nan\n",
            " 0.640301   0.62274247 0.62496417 0.62496417 0.64684663 0.62496417\n",
            " 0.62274247 0.62281414        nan        nan        nan        nan\n",
            " 0.64882943 0.67083134 0.66421405 0.66196847 0.65981844 0.67962255\n",
            " 0.68179646 0.67300526        nan        nan        nan        nan\n",
            " 0.64242714 0.65551839 0.65114668 0.65993789 0.63356426 0.64237936\n",
            " 0.65112279 0.65112279        nan        nan        nan        nan\n",
            " 0.640301   0.62274247 0.62496417 0.62496417 0.64684663 0.62496417\n",
            " 0.62274247 0.62281414        nan        nan        nan        nan\n",
            " 0.64882943 0.67083134 0.66421405 0.66196847 0.65981844 0.67962255\n",
            " 0.68179646 0.67300526        nan        nan        nan        nan\n",
            " 0.64242714 0.65551839 0.65114668 0.65993789 0.63356426 0.64237936\n",
            " 0.65112279 0.65112279        nan        nan        nan        nan\n",
            " 0.640301   0.62274247 0.62496417 0.62496417 0.64684663 0.62496417\n",
            " 0.62274247 0.62281414        nan        nan        nan        nan\n",
            " 0.64882943 0.67083134 0.66421405 0.66196847 0.65981844 0.67962255\n",
            " 0.68179646 0.67300526        nan        nan        nan        nan\n",
            " 0.64242714 0.65551839 0.65114668 0.65993789 0.63356426 0.64237936\n",
            " 0.65112279 0.65112279        nan        nan        nan        nan\n",
            " 0.640301   0.62274247 0.62496417 0.62496417 0.64684663 0.62496417\n",
            " 0.62274247 0.62281414        nan        nan        nan        nan\n",
            " 0.64882943 0.67083134 0.66421405 0.66196847 0.65981844 0.67962255\n",
            " 0.68179646 0.67300526        nan        nan        nan        nan\n",
            " 0.64242714 0.65551839 0.65114668 0.65993789 0.63356426 0.64237936\n",
            " 0.65112279 0.65112279        nan        nan        nan        nan]\n",
            "  warnings.warn(\n"
          ]
        }
      ],
      "source": [
        "from sklearn.model_selection import GridSearchCV\n",
        "\n",
        "rfc_grid_search1 = GridSearchCV(rfc,\n",
        "                           param_grid=param_grid1,\n",
        "                           cv=5,\n",
        "                           verbose=2,\n",
        "                           n_jobs=-1)\n",
        "\n",
        "rfc_grid_search1.fit(X1, y)\n",
        "\n",
        "report(rfc_grid_search1.cv_results_)"
      ]
    },
    {
      "cell_type": "code",
      "execution_count": null,
      "metadata": {
        "id": "zt79USvwnxjF",
        "colab": {
          "base_uri": "https://localhost:8080/"
        },
        "outputId": "c3936242-24e9-4db8-ee84-6298bfc95bcd"
      },
      "outputs": [
        {
          "output_type": "stream",
          "name": "stdout",
          "text": [
            "Accuracy per fold:  [0.72826087 0.61538462 0.59340659 0.6043956  0.67032967]\n",
            "Average Accuracy: 0.64\n",
            "Standard Deviation of Accuracy: +/- 0.05\n"
          ]
        }
      ],
      "source": [
        "best_params1 = rfc_grid_search1.best_params_\n",
        "best_rfc = RandomForestClassifier(**best_params, random_state=42)\n",
        "scores = cross_validate(best_rfc, X1, y, cv=5)\n",
        "\n",
        "print(\"Accuracy per fold: \", scores['test_score'])\n",
        "print(\"Average Accuracy: %0.2f\" % (np.mean(scores['test_score'])))\n",
        "print(\"Standard Deviation of Accuracy: +/- %0.2f\" % (np.std(scores['test_score'])))"
      ]
    },
    {
      "cell_type": "markdown",
      "source": [
        "CHECK IF THE MODEL IS DOING BETTER THAN A RANDOM GUESS"
      ],
      "metadata": {
        "id": "IaI3kb4UNoCU"
      }
    },
    {
      "cell_type": "code",
      "source": [
        "len(subjects_df)"
      ],
      "metadata": {
        "colab": {
          "base_uri": "https://localhost:8080/"
        },
        "id": "AUoE4bhbOcTP",
        "outputId": "f94380b0-9f07-4623-fe39-0dc5aa1777b0"
      },
      "execution_count": null,
      "outputs": [
        {
          "output_type": "execute_result",
          "data": {
            "text/plain": [
              "456"
            ]
          },
          "metadata": {},
          "execution_count": 22
        }
      ]
    },
    {
      "cell_type": "code",
      "source": [
        "from scipy.stats import binomtest\n",
        "\n",
        "n_samples1 = len(subjects_df)  # total number of samples\n",
        "successful_pred1 = int(n_samples1 * 0.64)  # total number of successful predictions\n",
        "p_value1 = binomtest(successful_pred1, n_samples1, p=0.5, alternative='greater')\n",
        "p_value1"
      ],
      "metadata": {
        "colab": {
          "base_uri": "https://localhost:8080/"
        },
        "id": "bmTy9a2QNnUi",
        "outputId": "75528259-39eb-4b56-e44e-02f548c6bdb1"
      },
      "execution_count": null,
      "outputs": [
        {
          "output_type": "execute_result",
          "data": {
            "text/plain": [
              "BinomTestResult(k=291, n=456, alternative='greater', statistic=0.6381578947368421, pvalue=1.9280498343531476e-09)"
            ]
          },
          "metadata": {},
          "execution_count": 53
        }
      ]
    }
  ],
  "metadata": {
    "colab": {
      "provenance": []
    },
    "kernelspec": {
      "display_name": "Python 3",
      "name": "python3"
    },
    "language_info": {
      "name": "python"
    }
  },
  "nbformat": 4,
  "nbformat_minor": 0
}