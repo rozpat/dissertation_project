{
  "nbformat": 4,
  "nbformat_minor": 0,
  "metadata": {
    "colab": {
      "provenance": []
    },
    "kernelspec": {
      "name": "python3",
      "display_name": "Python 3"
    },
    "language_info": {
      "name": "python"
    }
  },
  "cells": [
    {
      "cell_type": "markdown",
      "source": [
        "BEFORE FEATURE SELECTION\n"
      ],
      "metadata": {
        "id": "BGiYpzRyknuM"
      }
    },
    {
      "cell_type": "code",
      "execution_count": null,
      "metadata": {
        "id": "RQVQPfUl-h8T"
      },
      "outputs": [],
      "source": [
        "from sklearn.model_selection import train_test_split\n",
        "from sklearn.preprocessing import StandardScaler\n",
        "import pandas as pd\n",
        "from sklearn.neural_network import MLPClassifier\n",
        "from sklearn.metrics import accuracy_score, classification_report\n",
        "import numpy as np\n",
        "from sklearn.model_selection import cross_val_score\n",
        "from sklearn.model_selection import GridSearchCV\n",
        "from sklearn.model_selection import cross_validate"
      ]
    },
    {
      "cell_type": "code",
      "source": [
        "stance_data = pd.read_csv('cop_training_dataset.csv')\n",
        "\n",
        "# X as features and y as target variable\n",
        "X = stance_data.drop(columns=['subject', 'task', 'window_id','class'])\n",
        "y = stance_data['class']"
      ],
      "metadata": {
        "id": "bnljyafpAFuz"
      },
      "execution_count": null,
      "outputs": []
    },
    {
      "cell_type": "code",
      "source": [
        "# Utility function to report best scores\n",
        "def report(results, n_top=3):\n",
        "    for i in range(1, n_top + 1):\n",
        "        candidates = np.flatnonzero(results['rank_test_score'] == i)\n",
        "        for candidate in candidates:\n",
        "            print(\"Model with rank: {0}\".format(i))\n",
        "            print(\"Mean validation score: {0:.3f} (std: {1:.3f})\"\n",
        "                  .format(results['mean_test_score'][candidate],\n",
        "                          results['std_test_score'][candidate]))\n",
        "            print(\"Parameters: {0}\".format(results['params'][candidate]))\n",
        "            print(\"\")\n"
      ],
      "metadata": {
        "id": "PKH19z9oAa4z"
      },
      "execution_count": null,
      "outputs": []
    },
    {
      "cell_type": "code",
      "source": [
        "# hidden_layer_sizes = [(50,), (100,), (50, 50)]\n",
        "\n",
        "# activation = ['tanh', 'relu']\n",
        "\n",
        "# solver = ['sgd', 'adam']\n",
        "\n",
        "# alpha = [0.0001, 0.001, 0.01]\n",
        "\n",
        "# learning_rate = ['constant', 'adaptive']\n",
        "\n",
        "hidden_layer_sizes = [(50,), (80,), (50, 50)]\n",
        "activation = ['relu']\n",
        "solver = ['adam']\n",
        "alpha = [0.0001, 0.001]\n",
        "learning_rate = ['constant', 'adaptive']"
      ],
      "metadata": {
        "id": "WG7yixOGBgxS"
      },
      "execution_count": null,
      "outputs": []
    },
    {
      "cell_type": "code",
      "source": [
        "param_grid = {'hidden_layer_sizes': hidden_layer_sizes,\n",
        "               'activation': activation,\n",
        "               'solver': solver,\n",
        "               'alpha': alpha,\n",
        "              'learning_rate' : learning_rate\n",
        "             }\n",
        "print(param_grid)"
      ],
      "metadata": {
        "colab": {
          "base_uri": "https://localhost:8080/"
        },
        "id": "ZGg5TjaOAwn-",
        "outputId": "ecf7f0f2-6a8e-4b02-ba2c-efc3468d77ee"
      },
      "execution_count": null,
      "outputs": [
        {
          "output_type": "stream",
          "name": "stdout",
          "text": [
            "{'hidden_layer_sizes': [(50,), (80,), (50, 50)], 'activation': ['relu'], 'solver': ['adam'], 'alpha': [0.0001, 0.001], 'learning_rate': ['constant', 'adaptive']}\n"
          ]
        }
      ]
    },
    {
      "cell_type": "code",
      "source": [
        "mlp = MLPClassifier(max_iter=1000, random_state=42)\n",
        "\n",
        "grid_search = GridSearchCV(mlp, param_grid, cv=5, n_jobs=-1)\n",
        "\n",
        "grid_search.fit(X, y)\n",
        "\n",
        "report(grid_search.cv_results_)\n"
      ],
      "metadata": {
        "colab": {
          "base_uri": "https://localhost:8080/"
        },
        "id": "YO8heuMONf6O",
        "outputId": "d0251957-d565-47dd-98e1-f3ff650462cc"
      },
      "execution_count": null,
      "outputs": [
        {
          "output_type": "stream",
          "name": "stdout",
          "text": [
            "Model with rank: 1\n",
            "Mean validation score: 0.627 (std: 0.087)\n",
            "Parameters: {'activation': 'relu', 'alpha': 0.001, 'hidden_layer_sizes': (80,), 'learning_rate': 'constant', 'solver': 'adam'}\n",
            "\n",
            "Model with rank: 1\n",
            "Mean validation score: 0.627 (std: 0.087)\n",
            "Parameters: {'activation': 'relu', 'alpha': 0.001, 'hidden_layer_sizes': (80,), 'learning_rate': 'adaptive', 'solver': 'adam'}\n",
            "\n",
            "Model with rank: 3\n",
            "Mean validation score: 0.627 (std: 0.096)\n",
            "Parameters: {'activation': 'relu', 'alpha': 0.0001, 'hidden_layer_sizes': (50,), 'learning_rate': 'constant', 'solver': 'adam'}\n",
            "\n",
            "Model with rank: 3\n",
            "Mean validation score: 0.627 (std: 0.096)\n",
            "Parameters: {'activation': 'relu', 'alpha': 0.0001, 'hidden_layer_sizes': (50,), 'learning_rate': 'adaptive', 'solver': 'adam'}\n",
            "\n"
          ]
        },
        {
          "output_type": "stream",
          "name": "stderr",
          "text": [
            "/usr/local/lib/python3.10/dist-packages/sklearn/neural_network/_multilayer_perceptron.py:686: ConvergenceWarning: Stochastic Optimizer: Maximum iterations (1000) reached and the optimization hasn't converged yet.\n",
            "  warnings.warn(\n"
          ]
        }
      ]
    },
    {
      "cell_type": "markdown",
      "source": [
        "odel with rank: 1\n",
        "Mean validation score: 0.627 (std: 0.096)\n",
        "Parameters: {'activation': 'relu', 'alpha': 0.0001, 'hidden_layer_sizes': (50,), 'learning_rate': 'constant', 'solver': 'adam'}\n",
        "\n",
        "Model with rank: 1\n",
        "Mean validation score: 0.627 (std: 0.096)\n",
        "Parameters: {'activation': 'relu', 'alpha': 0.0001, 'hidden_layer_sizes': (50,), 'learning_rate': 'adaptive', 'solver': 'adam'}\n",
        "\n",
        "Model with rank: 3\n",
        "Mean validation score: 0.620 (std: 0.100)\n",
        "Parameters: {'activation': 'relu', 'alpha': 0.001, 'hidden_layer_sizes': (50,), 'learning_rate': 'constant', 'solver': 'adam'}\n",
        "\n",
        "Model with rank: 3\n",
        "Mean validation score: 0.620 (std: 0.100)\n",
        "Parameters: {'activation': 'relu', 'alpha': 0.001, 'hidden_layer_sizes': (50,), 'learning_rate': 'adaptive', 'solver': 'adam'}\n"
      ],
      "metadata": {
        "id": "PaQ0AgrbROhg"
      }
    },
    {
      "cell_type": "code",
      "source": [
        "best_params = grid_search.best_params_\n",
        "best_rfc = MLPClassifier(**best_params, max_iter=1000, random_state=42)\n",
        "scores = cross_validate(best_rfc, X, y, cv=5)\n",
        "\n",
        "print(\"Accuracy per fold: \", scores['test_score'])\n",
        "print(\"Average Accuracy: %0.2f\" % (np.mean(scores['test_score'])))\n",
        "print(\"Standard Deviation of Accuracy: +/- %0.2f\" % (np.std(scores['test_score'])))"
      ],
      "metadata": {
        "colab": {
          "base_uri": "https://localhost:8080/"
        },
        "id": "Z_wXX8MINrFq",
        "outputId": "28f4aa24-db73-44d7-a263-62865011e523"
      },
      "execution_count": null,
      "outputs": [
        {
          "output_type": "stream",
          "name": "stderr",
          "text": [
            "/usr/local/lib/python3.10/dist-packages/sklearn/neural_network/_multilayer_perceptron.py:686: ConvergenceWarning: Stochastic Optimizer: Maximum iterations (1000) reached and the optimization hasn't converged yet.\n",
            "  warnings.warn(\n",
            "/usr/local/lib/python3.10/dist-packages/sklearn/neural_network/_multilayer_perceptron.py:686: ConvergenceWarning: Stochastic Optimizer: Maximum iterations (1000) reached and the optimization hasn't converged yet.\n",
            "  warnings.warn(\n",
            "/usr/local/lib/python3.10/dist-packages/sklearn/neural_network/_multilayer_perceptron.py:686: ConvergenceWarning: Stochastic Optimizer: Maximum iterations (1000) reached and the optimization hasn't converged yet.\n",
            "  warnings.warn(\n",
            "/usr/local/lib/python3.10/dist-packages/sklearn/neural_network/_multilayer_perceptron.py:686: ConvergenceWarning: Stochastic Optimizer: Maximum iterations (1000) reached and the optimization hasn't converged yet.\n",
            "  warnings.warn(\n"
          ]
        },
        {
          "output_type": "stream",
          "name": "stdout",
          "text": [
            "Accuracy per fold:  [0.77173913 0.50549451 0.64835165 0.58241758 0.62637363]\n",
            "Average Accuracy: 0.63\n",
            "Standard Deviation of Accuracy: +/- 0.09\n"
          ]
        },
        {
          "output_type": "stream",
          "name": "stderr",
          "text": [
            "/usr/local/lib/python3.10/dist-packages/sklearn/neural_network/_multilayer_perceptron.py:686: ConvergenceWarning: Stochastic Optimizer: Maximum iterations (1000) reached and the optimization hasn't converged yet.\n",
            "  warnings.warn(\n"
          ]
        }
      ]
    },
    {
      "cell_type": "markdown",
      "source": [
        "P-VALUE"
      ],
      "metadata": {
        "id": "s-D4hxR-sW6s"
      }
    },
    {
      "cell_type": "code",
      "source": [
        "from scipy.stats import binomtest\n",
        "\n",
        "n_samples = len(stance_data)  # total number of samples\n",
        "successful_pred = int(n_samples * 0.63)  # total number of successful predictions\n",
        "p_value = binomtest(successful_pred, n_samples, p=0.5, alternative='greater')\n",
        "p_value"
      ],
      "metadata": {
        "colab": {
          "base_uri": "https://localhost:8080/"
        },
        "id": "3CcO65iOsV3M",
        "outputId": "f1a0f6c1-9692-45aa-8d79-6c686da31938"
      },
      "execution_count": null,
      "outputs": [
        {
          "output_type": "execute_result",
          "data": {
            "text/plain": [
              "BinomTestResult(k=287, n=456, alternative='greater', statistic=0.6293859649122807, pvalue=1.8064520852962256e-08)"
            ]
          },
          "metadata": {},
          "execution_count": 34
        }
      ]
    },
    {
      "cell_type": "markdown",
      "source": [
        "AFTER FEATURE SELECTION"
      ],
      "metadata": {
        "id": "5p6jWRg7ktkB"
      }
    },
    {
      "cell_type": "code",
      "source": [
        "# X as features and y as target variable\n",
        "X1 = stance_data.drop(columns=['subject', 'task', 'window_id','class'])"
      ],
      "metadata": {
        "id": "d09fltQnkvEW"
      },
      "execution_count": null,
      "outputs": []
    },
    {
      "cell_type": "code",
      "source": [
        "hidden_layer_sizes1 = [(50,), (80,), (50, 50), (100, 50)]\n",
        "\n",
        "activation1 = ['relu', 'tanh', 'logistic']\n",
        "\n",
        "solver1 = ['adam']\n",
        "\n",
        "alpha1 = [0.0001, 0.001]\n",
        "\n",
        "learning_rate1 = ['constant', 'adaptive']"
      ],
      "metadata": {
        "id": "r-GB1WUhpTz4"
      },
      "execution_count": null,
      "outputs": []
    },
    {
      "cell_type": "code",
      "source": [
        "param_grid1 = {'hidden_layer_sizes': hidden_layer_sizes1,\n",
        "               'activation': activation1,\n",
        "               'solver': solver1,\n",
        "               'alpha': alpha1,\n",
        "              'learning_rate' : learning_rate1\n",
        "             }\n",
        "print(param_grid1)"
      ],
      "metadata": {
        "colab": {
          "base_uri": "https://localhost:8080/"
        },
        "id": "_auZWr3apbbq",
        "outputId": "a82da99b-fc08-47eb-9571-209756fcdaa5"
      },
      "execution_count": null,
      "outputs": [
        {
          "output_type": "stream",
          "name": "stdout",
          "text": [
            "{'hidden_layer_sizes': [(50,), (80,), (50, 50), (100, 50)], 'activation': ['relu', 'tanh', 'logistic'], 'solver': ['adam'], 'alpha': [0.0001, 0.001], 'learning_rate': ['constant', 'adaptive']}\n"
          ]
        }
      ]
    },
    {
      "cell_type": "code",
      "source": [
        "mlp = MLPClassifier(max_iter=1000, random_state=42)\n",
        "\n",
        "grid_search1 = GridSearchCV(mlp, param_grid1, cv=5, n_jobs=-1)\n",
        "\n",
        "grid_search1.fit(X1, y)\n",
        "\n",
        "report(grid_search1.cv_results_)\n"
      ],
      "metadata": {
        "colab": {
          "base_uri": "https://localhost:8080/"
        },
        "id": "2End1PsFpqNv",
        "outputId": "ccfa6f36-7d35-4c22-d96b-e0915db1dc7c"
      },
      "execution_count": null,
      "outputs": [
        {
          "output_type": "stream",
          "name": "stdout",
          "text": [
            "Model with rank: 1\n",
            "Mean validation score: 0.627 (std: 0.087)\n",
            "Parameters: {'activation': 'relu', 'alpha': 0.001, 'hidden_layer_sizes': (80,), 'learning_rate': 'constant', 'solver': 'adam'}\n",
            "\n",
            "Model with rank: 1\n",
            "Mean validation score: 0.627 (std: 0.087)\n",
            "Parameters: {'activation': 'relu', 'alpha': 0.001, 'hidden_layer_sizes': (80,), 'learning_rate': 'adaptive', 'solver': 'adam'}\n",
            "\n",
            "Model with rank: 3\n",
            "Mean validation score: 0.627 (std: 0.096)\n",
            "Parameters: {'activation': 'relu', 'alpha': 0.0001, 'hidden_layer_sizes': (50,), 'learning_rate': 'constant', 'solver': 'adam'}\n",
            "\n",
            "Model with rank: 3\n",
            "Mean validation score: 0.627 (std: 0.096)\n",
            "Parameters: {'activation': 'relu', 'alpha': 0.0001, 'hidden_layer_sizes': (50,), 'learning_rate': 'adaptive', 'solver': 'adam'}\n",
            "\n"
          ]
        },
        {
          "output_type": "stream",
          "name": "stderr",
          "text": [
            "/usr/local/lib/python3.10/dist-packages/sklearn/neural_network/_multilayer_perceptron.py:686: ConvergenceWarning: Stochastic Optimizer: Maximum iterations (1000) reached and the optimization hasn't converged yet.\n",
            "  warnings.warn(\n"
          ]
        }
      ]
    },
    {
      "cell_type": "code",
      "source": [
        "best_params1 = grid_search1.best_params_\n",
        "best_rfc1 = MLPClassifier(**best_params1, max_iter=1000, random_state=42)\n",
        "scores1 = cross_validate(best_rfc1, X1, y, cv=5)\n",
        "\n",
        "print(\"Accuracy per fold: \", scores1['test_score'])\n",
        "print(\"Average Accuracy: %0.2f\" % (np.mean(scores1['test_score'])))\n",
        "print(\"Standard Deviation of Accuracy: +/- %0.2f\" % (np.std(scores1['test_score'])))"
      ],
      "metadata": {
        "id": "h5P78tM4p0Aw",
        "colab": {
          "base_uri": "https://localhost:8080/"
        },
        "outputId": "498a0563-67ff-46df-8504-c770bcb795a0"
      },
      "execution_count": null,
      "outputs": [
        {
          "output_type": "stream",
          "name": "stderr",
          "text": [
            "/usr/local/lib/python3.10/dist-packages/sklearn/neural_network/_multilayer_perceptron.py:686: ConvergenceWarning: Stochastic Optimizer: Maximum iterations (1000) reached and the optimization hasn't converged yet.\n",
            "  warnings.warn(\n",
            "/usr/local/lib/python3.10/dist-packages/sklearn/neural_network/_multilayer_perceptron.py:686: ConvergenceWarning: Stochastic Optimizer: Maximum iterations (1000) reached and the optimization hasn't converged yet.\n",
            "  warnings.warn(\n",
            "/usr/local/lib/python3.10/dist-packages/sklearn/neural_network/_multilayer_perceptron.py:686: ConvergenceWarning: Stochastic Optimizer: Maximum iterations (1000) reached and the optimization hasn't converged yet.\n",
            "  warnings.warn(\n",
            "/usr/local/lib/python3.10/dist-packages/sklearn/neural_network/_multilayer_perceptron.py:686: ConvergenceWarning: Stochastic Optimizer: Maximum iterations (1000) reached and the optimization hasn't converged yet.\n",
            "  warnings.warn(\n"
          ]
        },
        {
          "output_type": "stream",
          "name": "stdout",
          "text": [
            "Accuracy per fold:  [0.77173913 0.50549451 0.64835165 0.58241758 0.62637363]\n",
            "Average Accuracy: 0.63\n",
            "Standard Deviation of Accuracy: +/- 0.09\n"
          ]
        },
        {
          "output_type": "stream",
          "name": "stderr",
          "text": [
            "/usr/local/lib/python3.10/dist-packages/sklearn/neural_network/_multilayer_perceptron.py:686: ConvergenceWarning: Stochastic Optimizer: Maximum iterations (1000) reached and the optimization hasn't converged yet.\n",
            "  warnings.warn(\n"
          ]
        }
      ]
    },
    {
      "cell_type": "code",
      "source": [
        "from scipy.stats import binomtest\n",
        "\n",
        "n_samples = len(stance_data)  # total number of samples\n",
        "successful_pred1 = int(n_samples * 0.63)  # total number of successful predictions\n",
        "p_value = binomtest(successful_pred1, n_samples, p=0.5, alternative='greater')\n",
        "p_value"
      ],
      "metadata": {
        "colab": {
          "base_uri": "https://localhost:8080/"
        },
        "id": "f4lkb3HJ9WsF",
        "outputId": "85d562ec-ef19-4543-e3bf-847450eebf4c"
      },
      "execution_count": null,
      "outputs": [
        {
          "output_type": "execute_result",
          "data": {
            "text/plain": [
              "BinomTestResult(k=287, n=456, alternative='greater', statistic=0.6293859649122807, pvalue=1.8064520852962256e-08)"
            ]
          },
          "metadata": {},
          "execution_count": 33
        }
      ]
    }
  ]
}